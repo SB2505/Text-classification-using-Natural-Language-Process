{
 "cells": [
  {
   "cell_type": "markdown",
   "metadata": {},
   "source": [
    "# Data science assignment \n",
    "Monalisa, who is a Life sciences researcher does Pharmacovigilance (post-market drug safety surveillance) for Pharma Products.\n",
    "Pharmacovigilance identifies ADRs (adverse drug reactions) after a drug’s release. Comprehensive knowledge of ADRs can reduce the detrimental impact on patient’s health system. Practically, clinical trials cannot investigate all settings in which a drug will be used, making it impossible to fully characterize the drug’s adverse effect profile before its approval. Pharmacovigilance methods continuously analyse frequently updated data sources, Twitter in particularly because of its large user base, demographic variability, and publicly available data.\n",
    "ADR detection in social media requires automated methods to process the high data volume. It would greatly help her if she is able to automate the segmentation of Tweet into either ADR or NON-ADR, on the basis of Drug, Symptom and Effect mentioned in future.\n",
    "My Job is to Classify the Tweet into the 2 segments.\n",
    "\n",
    "**Dataset** \n",
    "\n",
    "Data set has given to me consist has tweets labelled as ADR and NON-ADR. The file has information which contains column like user IDs, tweet IDs, and label along with the tweet."
   ]
  },
  {
   "cell_type": "markdown",
   "metadata": {},
   "source": [
    "# My Approch to solution-:\n",
    "The features available in text format so this is problem of Text classification(Binary classification Problem).I used Nltk\n",
    "library to perform Text analytic.\n",
    "These are steps I have taken to build this text classification model.\n",
    "- 1.Import the Useful Library such as Pandas,Nltk,Sklearn etc.\n",
    "- 2.import the dataset using Pandas library and checked the data information,Null values,shape of data,value counts etc.\n",
    "- 3.Selected the independent variable and dependent Variable and check the value counts of INDEPENDENT VARIABLE found that data set is very Imbalanced.\n",
    "- 4.Used Upsampling methods to balanced the dataset .\n",
    "- 5.**Text preprocessing** like Removing punctuations, special characters, extra spaces, stopwords,Normalization techniques such as Stemming and Lemmatization to to normalize the text.\n",
    "- 6.**Text vectorization** \n",
    "- I have tried 3 methods of vectorization of text like n_gram vectorization, word_count vectorization and tfidf vectorization.\n",
    "- 7.**Model building & ModelEvaluation**\n",
    "- I have Splits the data into train test split into 75:25 ratio and Tried different different models Like \n",
    "- **LOGISTIC REGRESSION,**,RANDOM FOREST **afer using different different moels I found that **LOGISTIC REGRESSION IS THE BEST PERFORMING MODEL AMONGST ALL WITH 90.34% ACCURACY**\n",
    "-  To imporve the model perfromance we can use ensemble learning algorthims like Adaboost classifier,Gradient boosting etc with hyperparameter tuning using Grid search CV etc.\n",
    "\n"
   ]
  },
  {
   "cell_type": "code",
   "execution_count": 1,
   "metadata": {},
   "outputs": [],
   "source": [
    "#  Importing the Useful Library which might be useful throughout the model.\n",
    "import numpy as np\n",
    "import pandas as pd\n",
    "import matplotlib.pyplot as plt\n",
    "import seaborn as sns\n",
    "import nltk \n",
    "import re\n",
    "from nltk.corpus import stopwords\n",
    "from sklearn.feature_extraction.text import CountVectorizer,TfidfVectorizer\n",
    "from sklearn.linear_model import LogisticRegression\n",
    "from sklearn.naive_bayes import GaussianNB\n",
    "from sklearn.svm import LinearSVC\n",
    "from sklearn.metrics import accuracy_score\n",
    "from sklearn.model_selection import train_test_split\n",
    "from sklearn.metrics import accuracy_score,confusion_matrix,classification_report,roc_curve,auc,roc_auc_score,f1_score\n",
    "from sklearn.ensemble import RandomForestClassifier,AdaBoostClassifier,GradientBoostingClassifier\n"
   ]
  },
  {
   "cell_type": "code",
   "execution_count": 19,
   "metadata": {},
   "outputs": [],
   "source": [
    "from nltk.stem.porter import PorterStemmer\n",
    "from nltk.stem import WordNetLemmatizer"
   ]
  },
  {
   "cell_type": "code",
   "execution_count": 2,
   "metadata": {},
   "outputs": [
    {
     "data": {
      "text/html": [
       "<div>\n",
       "<style scoped>\n",
       "    .dataframe tbody tr th:only-of-type {\n",
       "        vertical-align: middle;\n",
       "    }\n",
       "\n",
       "    .dataframe tbody tr th {\n",
       "        vertical-align: top;\n",
       "    }\n",
       "\n",
       "    .dataframe thead th {\n",
       "        text-align: right;\n",
       "    }\n",
       "</style>\n",
       "<table border=\"1\" class=\"dataframe\">\n",
       "  <thead>\n",
       "    <tr style=\"text-align: right;\">\n",
       "      <th></th>\n",
       "      <th>UserId</th>\n",
       "      <th>TweetId</th>\n",
       "      <th>Tweet</th>\n",
       "      <th>ADR_label</th>\n",
       "    </tr>\n",
       "  </thead>\n",
       "  <tbody>\n",
       "    <tr>\n",
       "      <th>0</th>\n",
       "      <td>10030778</td>\n",
       "      <td>413205</td>\n",
       "      <td>Intravenous azithromycin-induced ototoxicity.</td>\n",
       "      <td>1</td>\n",
       "    </tr>\n",
       "    <tr>\n",
       "      <th>1</th>\n",
       "      <td>10048291</td>\n",
       "      <td>528244</td>\n",
       "      <td>Immobilization, while Paget's bone disease was...</td>\n",
       "      <td>1</td>\n",
       "    </tr>\n",
       "    <tr>\n",
       "      <th>2</th>\n",
       "      <td>10048291</td>\n",
       "      <td>361834</td>\n",
       "      <td>Unaccountable severe hypercalcemia in a patien...</td>\n",
       "      <td>1</td>\n",
       "    </tr>\n",
       "    <tr>\n",
       "      <th>3</th>\n",
       "      <td>10082597</td>\n",
       "      <td>292240</td>\n",
       "      <td>METHODS: We report two cases of pseudoporphyri...</td>\n",
       "      <td>1</td>\n",
       "    </tr>\n",
       "    <tr>\n",
       "      <th>4</th>\n",
       "      <td>10082597</td>\n",
       "      <td>467101</td>\n",
       "      <td>METHODS: We report two cases of pseudoporphyri...</td>\n",
       "      <td>1</td>\n",
       "    </tr>\n",
       "    <tr>\n",
       "      <th>...</th>\n",
       "      <td>...</td>\n",
       "      <td>...</td>\n",
       "      <td>...</td>\n",
       "      <td>...</td>\n",
       "    </tr>\n",
       "    <tr>\n",
       "      <th>23511</th>\n",
       "      <td>17921794</td>\n",
       "      <td>146275</td>\n",
       "      <td>At autopsy, the liver was found to be small, s...</td>\n",
       "      <td>0</td>\n",
       "    </tr>\n",
       "    <tr>\n",
       "      <th>23512</th>\n",
       "      <td>17921794</td>\n",
       "      <td>375409</td>\n",
       "      <td>Physical exam revealed a patient with aphasia,...</td>\n",
       "      <td>0</td>\n",
       "    </tr>\n",
       "    <tr>\n",
       "      <th>23513</th>\n",
       "      <td>17921794</td>\n",
       "      <td>246581</td>\n",
       "      <td>At the time when the leukemia appeared seven o...</td>\n",
       "      <td>0</td>\n",
       "    </tr>\n",
       "    <tr>\n",
       "      <th>23514</th>\n",
       "      <td>17921794</td>\n",
       "      <td>534599</td>\n",
       "      <td>The American Society for Regional Anesthesia a...</td>\n",
       "      <td>0</td>\n",
       "    </tr>\n",
       "    <tr>\n",
       "      <th>23515</th>\n",
       "      <td>17921794</td>\n",
       "      <td>660865</td>\n",
       "      <td>Concomitant administration of estradiol result...</td>\n",
       "      <td>0</td>\n",
       "    </tr>\n",
       "  </tbody>\n",
       "</table>\n",
       "<p>23516 rows × 4 columns</p>\n",
       "</div>"
      ],
      "text/plain": [
       "         UserId  TweetId                                              Tweet  \\\n",
       "0      10030778   413205      Intravenous azithromycin-induced ototoxicity.   \n",
       "1      10048291   528244  Immobilization, while Paget's bone disease was...   \n",
       "2      10048291   361834  Unaccountable severe hypercalcemia in a patien...   \n",
       "3      10082597   292240  METHODS: We report two cases of pseudoporphyri...   \n",
       "4      10082597   467101  METHODS: We report two cases of pseudoporphyri...   \n",
       "...         ...      ...                                                ...   \n",
       "23511  17921794   146275  At autopsy, the liver was found to be small, s...   \n",
       "23512  17921794   375409  Physical exam revealed a patient with aphasia,...   \n",
       "23513  17921794   246581  At the time when the leukemia appeared seven o...   \n",
       "23514  17921794   534599  The American Society for Regional Anesthesia a...   \n",
       "23515  17921794   660865  Concomitant administration of estradiol result...   \n",
       "\n",
       "       ADR_label  \n",
       "0              1  \n",
       "1              1  \n",
       "2              1  \n",
       "3              1  \n",
       "4              1  \n",
       "...          ...  \n",
       "23511          0  \n",
       "23512          0  \n",
       "23513          0  \n",
       "23514          0  \n",
       "23515          0  \n",
       "\n",
       "[23516 rows x 4 columns]"
      ]
     },
     "execution_count": 2,
     "metadata": {},
     "output_type": "execute_result"
    }
   ],
   "source": [
    "# Import the  dataset\n",
    "df= pd.read_csv('data.csv')\n",
    "df"
   ]
  },
  {
   "cell_type": "code",
   "execution_count": 3,
   "metadata": {},
   "outputs": [
    {
     "data": {
      "text/html": [
       "<div>\n",
       "<style scoped>\n",
       "    .dataframe tbody tr th:only-of-type {\n",
       "        vertical-align: middle;\n",
       "    }\n",
       "\n",
       "    .dataframe tbody tr th {\n",
       "        vertical-align: top;\n",
       "    }\n",
       "\n",
       "    .dataframe thead th {\n",
       "        text-align: right;\n",
       "    }\n",
       "</style>\n",
       "<table border=\"1\" class=\"dataframe\">\n",
       "  <thead>\n",
       "    <tr style=\"text-align: right;\">\n",
       "      <th></th>\n",
       "      <th>UserId</th>\n",
       "      <th>TweetId</th>\n",
       "      <th>Tweet</th>\n",
       "      <th>ADR_label</th>\n",
       "    </tr>\n",
       "  </thead>\n",
       "  <tbody>\n",
       "    <tr>\n",
       "      <th>0</th>\n",
       "      <td>10030778</td>\n",
       "      <td>413205</td>\n",
       "      <td>Intravenous azithromycin-induced ototoxicity.</td>\n",
       "      <td>1</td>\n",
       "    </tr>\n",
       "    <tr>\n",
       "      <th>1</th>\n",
       "      <td>10048291</td>\n",
       "      <td>528244</td>\n",
       "      <td>Immobilization, while Paget's bone disease was...</td>\n",
       "      <td>1</td>\n",
       "    </tr>\n",
       "    <tr>\n",
       "      <th>2</th>\n",
       "      <td>10048291</td>\n",
       "      <td>361834</td>\n",
       "      <td>Unaccountable severe hypercalcemia in a patien...</td>\n",
       "      <td>1</td>\n",
       "    </tr>\n",
       "    <tr>\n",
       "      <th>3</th>\n",
       "      <td>10082597</td>\n",
       "      <td>292240</td>\n",
       "      <td>METHODS: We report two cases of pseudoporphyri...</td>\n",
       "      <td>1</td>\n",
       "    </tr>\n",
       "    <tr>\n",
       "      <th>4</th>\n",
       "      <td>10082597</td>\n",
       "      <td>467101</td>\n",
       "      <td>METHODS: We report two cases of pseudoporphyri...</td>\n",
       "      <td>1</td>\n",
       "    </tr>\n",
       "  </tbody>\n",
       "</table>\n",
       "</div>"
      ],
      "text/plain": [
       "     UserId  TweetId                                              Tweet  \\\n",
       "0  10030778   413205      Intravenous azithromycin-induced ototoxicity.   \n",
       "1  10048291   528244  Immobilization, while Paget's bone disease was...   \n",
       "2  10048291   361834  Unaccountable severe hypercalcemia in a patien...   \n",
       "3  10082597   292240  METHODS: We report two cases of pseudoporphyri...   \n",
       "4  10082597   467101  METHODS: We report two cases of pseudoporphyri...   \n",
       "\n",
       "   ADR_label  \n",
       "0          1  \n",
       "1          1  \n",
       "2          1  \n",
       "3          1  \n",
       "4          1  "
      ]
     },
     "execution_count": 3,
     "metadata": {},
     "output_type": "execute_result"
    }
   ],
   "source": [
    "#Cheking the initial 5 rows of the dataset\n",
    "df.head()"
   ]
  },
  {
   "cell_type": "code",
   "execution_count": 4,
   "metadata": {},
   "outputs": [
    {
     "data": {
      "text/plain": [
       "(23516, 4)"
      ]
     },
     "execution_count": 4,
     "metadata": {},
     "output_type": "execute_result"
    }
   ],
   "source": [
    "df.shape #Checking the shape of Dataset"
   ]
  },
  {
   "cell_type": "code",
   "execution_count": 5,
   "metadata": {},
   "outputs": [
    {
     "name": "stdout",
     "output_type": "stream",
     "text": [
      "<class 'pandas.core.frame.DataFrame'>\n",
      "RangeIndex: 23516 entries, 0 to 23515\n",
      "Data columns (total 4 columns):\n",
      "UserId       23516 non-null int64\n",
      "TweetId      23516 non-null int64\n",
      "Tweet        23516 non-null object\n",
      "ADR_label    23516 non-null int64\n",
      "dtypes: int64(3), object(1)\n",
      "memory usage: 735.0+ KB\n"
     ]
    }
   ],
   "source": [
    "df.info() #Checking the Information of data like Data type of different features"
   ]
  },
  {
   "cell_type": "code",
   "execution_count": 6,
   "metadata": {},
   "outputs": [
    {
     "data": {
      "text/plain": [
       "UserId       0\n",
       "TweetId      0\n",
       "Tweet        0\n",
       "ADR_label    0\n",
       "dtype: int64"
      ]
     },
     "execution_count": 6,
     "metadata": {},
     "output_type": "execute_result"
    }
   ],
   "source": [
    "df.isnull().sum() #Cheked the Null values and find there is a No null NULL values in data"
   ]
  },
  {
   "cell_type": "code",
   "execution_count": 7,
   "metadata": {},
   "outputs": [
    {
     "data": {
      "text/plain": [
       "UserId        1644\n",
       "TweetId      23202\n",
       "Tweet        20896\n",
       "ADR_label        2\n",
       "dtype: int64"
      ]
     },
     "execution_count": 7,
     "metadata": {},
     "output_type": "execute_result"
    }
   ],
   "source": [
    "df.nunique()"
   ]
  },
  {
   "cell_type": "code",
   "execution_count": 8,
   "metadata": {},
   "outputs": [
    {
     "data": {
      "text/plain": [
       "0    16694\n",
       "1     6822\n",
       "Name: ADR_label, dtype: int64"
      ]
     },
     "execution_count": 8,
     "metadata": {},
     "output_type": "execute_result"
    }
   ],
   "source": [
    "df['ADR_label'].value_counts()"
   ]
  },
  {
   "cell_type": "code",
   "execution_count": 9,
   "metadata": {},
   "outputs": [
    {
     "data": {
      "text/plain": [
       "((23516,), (23516,))"
      ]
     },
     "execution_count": 9,
     "metadata": {},
     "output_type": "execute_result"
    }
   ],
   "source": [
    "x=df['Tweet'] \n",
    "y=df['ADR_label']  #Target variable\n",
    "x.shape,y.shape"
   ]
  },
  {
   "cell_type": "code",
   "execution_count": 10,
   "metadata": {},
   "outputs": [
    {
     "data": {
      "text/plain": [
       "0    16694\n",
       "1     6822\n",
       "Name: ADR_label, dtype: int64"
      ]
     },
     "execution_count": 10,
     "metadata": {},
     "output_type": "execute_result"
    }
   ],
   "source": [
    "y.value_counts() #Clearly Data set is imbalanced "
   ]
  },
  {
   "cell_type": "markdown",
   "metadata": {},
   "source": []
  },
  {
   "cell_type": "code",
   "execution_count": 11,
   "metadata": {},
   "outputs": [
    {
     "data": {
      "text/plain": [
       "0    16694\n",
       "1    16624\n",
       "Name: ADR_label, dtype: int64"
      ]
     },
     "execution_count": 11,
     "metadata": {},
     "output_type": "execute_result"
    }
   ],
   "source": [
    "#Balancing the dataset using upsampling technique\n",
    "from sklearn.utils import resample\n",
    "df_majority_class = df[df.ADR_label==0]\n",
    "df_minority_class = df[df.ADR_label==1]\n",
    "df_minority_upsampled = resample(df_minority_class, \n",
    "                                 replace=True,  \n",
    "                                 n_samples=16624,   \n",
    "                                 random_state=123)\n",
    " \n",
    "\n",
    "df_upsampled = pd.concat([df_majority_class, df_minority_upsampled])\n",
    " \n",
    "\n",
    "df_upsampled.ADR_label.value_counts()"
   ]
  },
  {
   "cell_type": "markdown",
   "metadata": {},
   "source": [
    "# Text Preprocessing"
   ]
  },
  {
   "cell_type": "code",
   "execution_count": 12,
   "metadata": {},
   "outputs": [],
   "source": [
    "cleaned_tweet = []\n",
    "for tweet in list(x):\n",
    "    tweet_clean = re.compile(\"[.;:!\\'?,\\\"()\\[\\]\\r\\n]\").sub(\"\",tweet.lower())\n",
    "    cleaned_tweet.append(tweet_clean)"
   ]
  },
  {
   "cell_type": "code",
   "execution_count": 13,
   "metadata": {},
   "outputs": [],
   "source": [
    "#Removing the stopwords \n",
    "english_stop_words = stopwords.words('english')\n",
    "def stop_words(corpus):\n",
    "    stop_words_removal = []\n",
    "    for tweet in corpus:\n",
    "        stop_words_removal.append(' '.join([word for word in tweet.split() if word not in english_stop_words]))     \n",
    "    return stop_words_removal\n",
    "\n",
    "tweets_stopwords = stop_words(cleaned_tweet)"
   ]
  },
  {
   "cell_type": "code",
   "execution_count": 17,
   "metadata": {},
   "outputs": [],
   "source": [
    "#Stemmizing the text\n",
    "def get_stemmed_text(corpus):\n",
    "    stemmer = PorterStemmer()\n",
    "    return [' '.join([stemmer.stem(word) for word in tweet.split()]) for tweet in corpus]\n",
    "\n",
    "stemmed_tweets = get_stemmed_text(tweets_stopwords)"
   ]
  },
  {
   "cell_type": "code",
   "execution_count": 18,
   "metadata": {},
   "outputs": [],
   "source": [
    "#Lemmatizing the tweet\n",
    "def get_lemmatized_text(corpus):\n",
    "    lemmatizer = WordNetLemmatizer()\n",
    "    return [' '.join([lemmatizer.lemmatize(word) for word in tweet.split()]) for tweet in corpus]\n",
    "\n",
    "lemmatized_tweets = get_lemmatized_text(tweets_stopwords)"
   ]
  },
  {
   "cell_type": "markdown",
   "metadata": {},
   "source": [
    "# Text Vectorization"
   ]
  },
  {
   "cell_type": "code",
   "execution_count": 20,
   "metadata": {},
   "outputs": [],
   "source": [
    "# Creating n-gram vectorized data using countvectorizer\n",
    "ngram_vectorizer = CountVectorizer(binary=True, ngram_range=(1, 2))\n",
    "ngram_vectorizer.fit(lemmatized_tweets)\n",
    "X_ngram = ngram_vectorizer.transform(lemmatized_tweets)\n"
   ]
  },
  {
   "cell_type": "code",
   "execution_count": 21,
   "metadata": {},
   "outputs": [],
   "source": [
    "\n",
    "x_train, x_test, y_train, y_test = train_test_split(X_ngram, y, train_size = 0.75)"
   ]
  },
  {
   "cell_type": "code",
   "execution_count": null,
   "metadata": {},
   "outputs": [],
   "source": []
  },
  {
   "cell_type": "markdown",
   "metadata": {},
   "source": [
    "# Model building"
   ]
  },
  {
   "cell_type": "code",
   "execution_count": 22,
   "metadata": {},
   "outputs": [],
   "source": [
    "from sklearn.linear_model import LogisticRegression\n",
    "LR=LogisticRegression()"
   ]
  },
  {
   "cell_type": "code",
   "execution_count": 23,
   "metadata": {},
   "outputs": [],
   "source": [
    "from sklearn.linear_model import LogisticRegression\n",
    "from sklearn.metrics import mean_squared_error,r2_score,accuracy_score,f1_score,confusion_matrix,classification_report\n",
    "from sklearn.preprocessing import StandardScaler"
   ]
  },
  {
   "cell_type": "code",
   "execution_count": 24,
   "metadata": {},
   "outputs": [],
   "source": [
    "LR=LogisticRegression()\n",
    "RFC=RandomForestClassifier()\n"
   ]
  },
  {
   "cell_type": "code",
   "execution_count": 25,
   "metadata": {
    "scrolled": false
   },
   "outputs": [
    {
     "name": "stderr",
     "output_type": "stream",
     "text": [
      "C:\\Users\\Travealone\\Anaconda3\\lib\\site-packages\\sklearn\\linear_model\\logistic.py:432: FutureWarning: Default solver will be changed to 'lbfgs' in 0.22. Specify a solver to silence this warning.\n",
      "  FutureWarning)\n"
     ]
    },
    {
     "name": "stdout",
     "output_type": "stream",
     "text": [
      "LogisticRegression(C=1.0, class_weight=None, dual=False, fit_intercept=True,\n",
      "                   intercept_scaling=1, l1_ratio=None, max_iter=100,\n",
      "                   multi_class='warn', n_jobs=None, penalty='l2',\n",
      "                   random_state=None, solver='warn', tol=0.0001, verbose=0,\n",
      "                   warm_start=False)\n",
      "Accuracy 0.9030447354992346\n",
      "f1 Score 0.8255813953488372\n",
      "[[3960  189]\n",
      " [ 381 1349]]\n",
      "              precision    recall  f1-score   support\n",
      "\n",
      "           0       0.91      0.95      0.93      4149\n",
      "           1       0.88      0.78      0.83      1730\n",
      "\n",
      "    accuracy                           0.90      5879\n",
      "   macro avg       0.89      0.87      0.88      5879\n",
      "weighted avg       0.90      0.90      0.90      5879\n",
      "\n"
     ]
    },
    {
     "name": "stderr",
     "output_type": "stream",
     "text": [
      "C:\\Users\\Travealone\\Anaconda3\\lib\\site-packages\\sklearn\\ensemble\\forest.py:245: FutureWarning: The default value of n_estimators will change from 10 in version 0.20 to 100 in 0.22.\n",
      "  \"10 in version 0.20 to 100 in 0.22.\", FutureWarning)\n"
     ]
    },
    {
     "name": "stdout",
     "output_type": "stream",
     "text": [
      "RandomForestClassifier(bootstrap=True, class_weight=None, criterion='gini',\n",
      "                       max_depth=None, max_features='auto', max_leaf_nodes=None,\n",
      "                       min_impurity_decrease=0.0, min_impurity_split=None,\n",
      "                       min_samples_leaf=1, min_samples_split=2,\n",
      "                       min_weight_fraction_leaf=0.0, n_estimators=10,\n",
      "                       n_jobs=None, oob_score=False, random_state=None,\n",
      "                       verbose=0, warm_start=False)\n",
      "Accuracy 0.871236604864773\n",
      "f1 Score 0.7357766143106457\n",
      "[[4068   81]\n",
      " [ 676 1054]]\n",
      "              precision    recall  f1-score   support\n",
      "\n",
      "           0       0.86      0.98      0.91      4149\n",
      "           1       0.93      0.61      0.74      1730\n",
      "\n",
      "    accuracy                           0.87      5879\n",
      "   macro avg       0.89      0.79      0.83      5879\n",
      "weighted avg       0.88      0.87      0.86      5879\n",
      "\n"
     ]
    },
    {
     "data": {
      "image/png": "[encoded data removed]",
      "text/plain": [
       "<Figure size 432x288 with 1 Axes>"
      ]
     },
     "metadata": {
      "needs_background": "light"
     },
     "output_type": "display_data"
    }
   ],
   "source": [
    "models=[LR,RFC]\n",
    "for a in models:\n",
    "    a.fit(x_train,y_train)\n",
    "    predict=a.predict(x_test)\n",
    "    Accuracy=accuracy_score(y_test,predict)\n",
    "    f1=f1_score(y_test,predict)\n",
    "    cm=confusion_matrix(y_test,predict)\n",
    "    cr=classification_report(y_test,predict)\n",
    "\n",
    "    \n",
    "    \n",
    "    print(a)\n",
    "    print(\"Accuracy\",Accuracy)\n",
    "    print(\"f1 Score\",f1)\n",
    "\n",
    "    print(cm)\n",
    "    print(cr)\n",
    "    fpr,tpr,thresh=roc_curve(y_test,predict)\n",
    "    plt.plot(fpr,tpr,color='blue',label=\"AUC cureve(are= %0.2f)\" %round(auc(fpr,tpr)*100,2))\n",
    "    plt.xlabel(\"False Positve Rate\")\n",
    "    plt.ylabel(\"True Positve Rate\")\n",
    "    plt.title(\"ROC CURVE\",)\n",
    "    plt.xlim([0,1])\n",
    "    plt.ylim([0,1])\n",
    "    plt.legend()\n",
    "\n",
    "\n",
    "\n",
    "    "
   ]
  },
  {
   "cell_type": "code",
   "execution_count": null,
   "metadata": {},
   "outputs": [],
   "source": []
  },
  {
   "cell_type": "code",
   "execution_count": 26,
   "metadata": {},
   "outputs": [],
   "source": [
    "# creating word_count vectorized data using count vectorizer\n",
    "wc_vectorizer = CountVectorizer(binary=False)\n",
    "wc_vectorizer.fit(lemmatized_tweets)\n",
    "X_word_count = wc_vectorizer.transform(lemmatized_tweets)"
   ]
  },
  {
   "cell_type": "code",
   "execution_count": 27,
   "metadata": {},
   "outputs": [],
   "source": [
    "x_train_wc, x_test_wc, y_train_wc, y_test_wc = train_test_split(X_word_count, y, train_size = 0.75)"
   ]
  },
  {
   "cell_type": "code",
   "execution_count": 28,
   "metadata": {},
   "outputs": [
    {
     "name": "stderr",
     "output_type": "stream",
     "text": [
      "C:\\Users\\Travealone\\Anaconda3\\lib\\site-packages\\sklearn\\linear_model\\logistic.py:432: FutureWarning: Default solver will be changed to 'lbfgs' in 0.22. Specify a solver to silence this warning.\n",
      "  FutureWarning)\n"
     ]
    },
    {
     "name": "stdout",
     "output_type": "stream",
     "text": [
      "LogisticRegression(C=1.0, class_weight=None, dual=False, fit_intercept=True,\n",
      "                   intercept_scaling=1, l1_ratio=None, max_iter=100,\n",
      "                   multi_class='warn', n_jobs=None, penalty='l2',\n",
      "                   random_state=None, solver='warn', tol=0.0001, verbose=0,\n",
      "                   warm_start=False)\n",
      "Accuracy 0.886885524749107\n",
      "f1 Score 0.7983014861995754\n",
      "[[3898  274]\n",
      " [ 391 1316]]\n",
      "              precision    recall  f1-score   support\n",
      "\n",
      "           0       0.91      0.93      0.92      4172\n",
      "           1       0.83      0.77      0.80      1707\n",
      "\n",
      "    accuracy                           0.89      5879\n",
      "   macro avg       0.87      0.85      0.86      5879\n",
      "weighted avg       0.89      0.89      0.89      5879\n",
      "\n",
      "RandomForestClassifier(bootstrap=True, class_weight=None, criterion='gini',\n",
      "                       max_depth=None, max_features='auto', max_leaf_nodes=None,\n",
      "                       min_impurity_decrease=0.0, min_impurity_split=None,\n",
      "                       min_samples_leaf=1, min_samples_split=2,\n",
      "                       min_weight_fraction_leaf=0.0, n_estimators=10,\n",
      "                       n_jobs=None, oob_score=False, random_state=None,\n",
      "                       verbose=0, warm_start=False)\n",
      "Accuracy 0.8724272835516245\n",
      "f1 Score 0.7469635627530365\n",
      "[[4022  150]\n",
      " [ 600 1107]]\n",
      "              precision    recall  f1-score   support\n",
      "\n",
      "           0       0.87      0.96      0.91      4172\n",
      "           1       0.88      0.65      0.75      1707\n",
      "\n",
      "    accuracy                           0.87      5879\n",
      "   macro avg       0.88      0.81      0.83      5879\n",
      "weighted avg       0.87      0.87      0.87      5879\n",
      "\n"
     ]
    },
    {
     "data": {
      "image/png": "[encoded data removed]",
      "text/plain": [
       "<Figure size 432x288 with 1 Axes>"
      ]
     },
     "metadata": {
      "needs_background": "light"
     },
     "output_type": "display_data"
    }
   ],
   "source": [
    "models=[LR,RFC]\n",
    "for a in models:\n",
    "    a.fit(x_train_wc,y_train_wc)\n",
    "    predict=a.predict(x_test_wc)\n",
    "    Accuracy=accuracy_score(y_test_wc,predict)\n",
    "    f1=f1_score(y_test_wc,predict)\n",
    "    cm=confusion_matrix(y_test_wc,predict)\n",
    "    cr=classification_report(y_test_wc,predict)\n",
    "\n",
    "    \n",
    "    \n",
    "    print(a)\n",
    "    print(\"Accuracy\",Accuracy)\n",
    "    print(\"f1 Score\",f1)\n",
    "\n",
    "    print(cm)\n",
    "    print(cr)\n",
    "    fpr,tpr,thresh=roc_curve(y_test_wc,predict)\n",
    "    plt.plot(fpr,tpr,color='blue',label=\"AUC cureve(are= %0.2f)\" %round(auc(fpr,tpr)*100,2))\n",
    "    plt.xlabel(\"False Positve Rate\")\n",
    "    plt.ylabel(\"True Positve Rate\")\n",
    "    plt.title(\"ROC CURVE\",)\n",
    "    plt.xlim([0,1])\n",
    "    plt.ylim([0,1])\n",
    "    plt.legend()"
   ]
  }
 ],
 "metadata": {
  "kernelspec": {
   "display_name": "Python 3",
   "language": "python",
   "name": "python3"
  },
  "language_info": {
   "codemirror_mode": {
    "name": "ipython",
    "version": 3
   },
   "file_extension": ".py",
   "mimetype": "text/x-python",
   "name": "python",
   "nbconvert_exporter": "python",
   "pygments_lexer": "ipython3",
   "version": "3.7.1"
  }
 },
 "nbformat": 4,
 "nbformat_minor": 2
}
